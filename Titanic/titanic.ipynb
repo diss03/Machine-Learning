{
 "cells": [
  {
   "cell_type": "code",
   "execution_count": 1,
   "id": "e83aa42d-3de5-4f07-803c-7865d5fbc6ec",
   "metadata": {
    "tags": []
   },
   "outputs": [],
   "source": [
    "import numpy as np\n",
    "import pandas as pd\n",
    "from sklearn.svm import SVC\n",
    "from sklearn.multiclass import OneVsOneClassifier\n",
    "from sklearn import datasets\n",
    "from sklearn.model_selection import train_test_split\n",
    "from sklearn.preprocessing import StandardScaler, LabelEncoder\n",
    "\n",
    "# загружаем датасеты\n",
    "data = pd.read_csv(\"train.csv\")\n",
    "test = pd.read_csv(\"test.csv\")\n",
    "\n",
    "# убираем нунужные данные (остаются: возраст, пол, семья, класс каюты, должность в команде)\n",
    "data = data.drop(columns=[\"Name\", \"Ticket\", \"PassengerId\", \"Fare\", \"Cabin\", \"Embarked\"])\n",
    "test = test.drop(columns=[\"Name\", \"Ticket\", \"PassengerId\", \"Fare\", \"Cabin\", \"Embarked\"])\n",
    "\n",
    "# Объединяем родственников в семью \n",
    "data[\"FamCnt\"] = data[\"SibSp\"] + data[\"Parch\"]\n",
    "data = data.drop(columns=[\"SibSp\", \"Parch\"])\n",
    "test[\"FamCnt\"] = test[\"SibSp\"] + test[\"Parch\"]\n",
    "test = test.drop(columns=[\"SibSp\", \"Parch\"])"
   ]
  },
  {
   "cell_type": "code",
   "execution_count": 2,
   "id": "492d0071-1793-45c8-9f73-5ffc39e8d4d0",
   "metadata": {
    "scrolled": true,
    "tags": []
   },
   "outputs": [
    {
     "name": "stdout",
     "output_type": "stream",
     "text": [
      "0.6161616161616161\n"
     ]
    },
    {
     "name": "stderr",
     "output_type": "stream",
     "text": [
      "C:\\Users\\stden\\anaconda3\\Lib\\site-packages\\sklearn\\base.py:443: UserWarning: X has feature names, but OneVsOneClassifier was fitted without feature names\n",
      "  warnings.warn(\n"
     ]
    }
   ],
   "source": [
    "# заменяем пол на значения номер принадлежности: {0,1}\n",
    "# класс и должнось разделяем на подклассы со свойством принадлежности: {0,1}\n",
    "data[\"Sex\"] = LabelEncoder().fit_transform(data[\"Sex\"])\n",
    "# data = pd.get_dummies(data, columns=[\"Pclass\"], dtype=int)\n",
    "test[\"Sex\"] = LabelEncoder().fit_transform(test[\"Sex\"])\n",
    "# test = pd.get_dummies(test, columns=[\"Pclass\"], dtype=int)"
   ]
  },
  {
   "cell_type": "code",
   "execution_count": null,
   "id": "037f8eee-6e64-4bf6-9c6e-1d31260c522b",
   "metadata": {},
   "outputs": [],
   "source": [
    "\n",
    "# Заполняем пропущенные значения возрастов медианными значениями и переводим в целочисленный тип\n",
    "data = data.fillna(data.median())\n",
    "data[\"Age\"] = data[\"Age\"].astype(int)\n",
    "test = test.fillna(test.mean())\n",
    "test[\"Age\"] = test[\"Age\"].astype(int)\n",
    "\n",
    "X = data.drop(columns=[\"Survived\"])\n",
    "Y = data[\"Survived\"]\n",
    "\n",
    "# создаем тренировочную и тестовую выборку\n",
    "X_tr, X_t, Y_tr, Y_t = train_test_split(X, Y, test_size=0.33,random_state=42)\n",
    "\n",
    "# print(X_tr, X_t, Y_tr, Y_t, sep='\\n\\n')\n",
    "\n",
    "# Feature Scaling using StandardScaler\n",
    "scaler = StandardScaler().fit(X_tr)\n",
    "X_tr_std = scaler.transform(X_tr)\n",
    "X_t_std = scaler.transform(X_t)\n",
    "test_scaled = scaler.transform(test)\n",
    "\n",
    "# метод опорных векторов с линейным ядром, классификатор 1 против 1\n",
    "ovo = OneVsOneClassifier(SVC(kernel = 'linear')).fit(X_tr_std , Y_tr)\n",
    "# предсказание\n",
    "predictions = ovo.predict(test_scaled)\n",
    "\n",
    "X_test = data.drop(columns=[\"Survived\"])\n",
    "Y_test = data[\"Survived\"]\n",
    "print(ovo.score(X_test, Y_test))\n",
    "\n",
    "\n",
    "# создавем scv-файл\n",
    "data = pd.read_csv(\"test.csv\")\n",
    "result = pd.DataFrame({'PassengerId': data['PassengerId'], 'Survived': predictions})\n",
    "result.to_csv(\"result.csv\", header=True, index=False)"
   ]
  }
 ],
 "metadata": {
  "kernelspec": {
   "display_name": "Python 3 (ipykernel)",
   "language": "python",
   "name": "python3"
  },
  "language_info": {
   "codemirror_mode": {
    "name": "ipython",
    "version": 3
   },
   "file_extension": ".py",
   "mimetype": "text/x-python",
   "name": "python",
   "nbconvert_exporter": "python",
   "pygments_lexer": "ipython3",
   "version": "3.11.5"
  }
 },
 "nbformat": 4,
 "nbformat_minor": 5
}
